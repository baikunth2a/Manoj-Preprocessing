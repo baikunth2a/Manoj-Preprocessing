{
  "nbformat": 4,
  "nbformat_minor": 0,
  "metadata": {
    "colab": {
      "name": "Temperature_raw.ipynb",
      "provenance": [],
      "authorship_tag": "ABX9TyOIrn1JuF+IPPM1+l3C89TM",
      "include_colab_link": true
    },
    "kernelspec": {
      "name": "python3",
      "display_name": "Python 3"
    }
  },
  "cells": [
    {
      "cell_type": "markdown",
      "metadata": {
        "id": "view-in-github",
        "colab_type": "text"
      },
      "source": [
        "<a href=\"https://colab.research.google.com/github/baikunth2a/Manoj-Preprocessing/blob/master/Temperature_raw.ipynb\" target=\"_parent\"><img src=\"https://colab.research.google.com/assets/colab-badge.svg\" alt=\"Open In Colab\"/></a>"
      ]
    },
    {
      "cell_type": "code",
      "metadata": {
        "id": "X2LFZ6qHI8ZA",
        "colab_type": "code",
        "colab": {
          "base_uri": "https://localhost:8080/",
          "height": 122
        },
        "outputId": "6fa6a938-3279-41f9-b87b-180b5cc1ac6a"
      },
      "source": [
        "!pip install XlsxWriter"
      ],
      "execution_count": 1,
      "outputs": [
        {
          "output_type": "stream",
          "text": [
            "Collecting XlsxWriter\n",
            "\u001b[?25l  Downloading https://files.pythonhosted.org/packages/2b/98/17875723b6814fc4d0fc03f0997ee00de2dbd78cf195e2ec3f2c9c789d40/XlsxWriter-1.3.3-py2.py3-none-any.whl (144kB)\n",
            "\r\u001b[K     |██▎                             | 10kB 10.9MB/s eta 0:00:01\r\u001b[K     |████▌                           | 20kB 1.6MB/s eta 0:00:01\r\u001b[K     |██████▉                         | 30kB 2.1MB/s eta 0:00:01\r\u001b[K     |█████████                       | 40kB 2.4MB/s eta 0:00:01\r\u001b[K     |███████████▍                    | 51kB 1.9MB/s eta 0:00:01\r\u001b[K     |█████████████▋                  | 61kB 2.1MB/s eta 0:00:01\r\u001b[K     |████████████████                | 71kB 2.4MB/s eta 0:00:01\r\u001b[K     |██████████████████▏             | 81kB 2.6MB/s eta 0:00:01\r\u001b[K     |████████████████████▌           | 92kB 2.8MB/s eta 0:00:01\r\u001b[K     |██████████████████████▊         | 102kB 2.6MB/s eta 0:00:01\r\u001b[K     |█████████████████████████       | 112kB 2.6MB/s eta 0:00:01\r\u001b[K     |███████████████████████████▎    | 122kB 2.6MB/s eta 0:00:01\r\u001b[K     |█████████████████████████████▋  | 133kB 2.6MB/s eta 0:00:01\r\u001b[K     |███████████████████████████████▉| 143kB 2.6MB/s eta 0:00:01\r\u001b[K     |████████████████████████████████| 153kB 2.6MB/s \n",
            "\u001b[?25hInstalling collected packages: XlsxWriter\n",
            "Successfully installed XlsxWriter-1.3.3\n"
          ],
          "name": "stdout"
        }
      ]
    },
    {
      "cell_type": "code",
      "metadata": {
        "id": "W7gF3gfn0LK5",
        "colab_type": "code",
        "colab": {
          "base_uri": "https://localhost:8080/",
          "height": 51
        },
        "outputId": "6e63e575-8a74-4b7c-8bbb-fe8bcc2dd204"
      },
      "source": [
        "import pandas as pd\n",
        "import sys\n",
        "import os\n",
        "\n",
        "from google.colab import drive\n",
        "drive.mount('/content/gdrive/')\n",
        "sys.path.append('/content/gdrive/My Drive/lead_gen')\n",
        "%cd /content/gdrive/My\\ Drive/"
      ],
      "execution_count": 76,
      "outputs": [
        {
          "output_type": "stream",
          "text": [
            "Drive already mounted at /content/gdrive/; to attempt to forcibly remount, call drive.mount(\"/content/gdrive/\", force_remount=True).\n",
            "/content/gdrive/My Drive\n"
          ],
          "name": "stdout"
        }
      ]
    },
    {
      "cell_type": "code",
      "metadata": {
        "id": "2OF_-hzr4dei",
        "colab_type": "code",
        "colab": {
          "base_uri": "https://localhost:8080/",
          "height": 71
        },
        "outputId": "5225a7ed-4f9c-418c-9cce-e18cafad7f52"
      },
      "source": [
        "data = pd.read_csv('Jukss.txt', sep=\"   \", header=None)\n",
        "data.columns = [\"number\", \"temperature\"]\n",
        "# data.replace(to_replace={'DNA' : 0}, inplace=True)"
      ],
      "execution_count": 77,
      "outputs": [
        {
          "output_type": "stream",
          "text": [
            "/usr/local/lib/python3.6/dist-packages/ipykernel_launcher.py:1: ParserWarning: Falling back to the 'python' engine because the 'c' engine does not support regex separators (separators > 1 char and different from '\\s+' are interpreted as regex); you can avoid this warning by specifying engine='python'.\n",
            "  \"\"\"Entry point for launching an IPython kernel.\n"
          ],
          "name": "stderr"
        }
      ]
    },
    {
      "cell_type": "code",
      "metadata": {
        "id": "b-JxsGY06cHx",
        "colab_type": "code",
        "colab": {}
      },
      "source": [
        "from datetime import date, timedelta\n",
        "import xlsxwriter\n",
        "\n",
        "start_date = date(1980, 1, 1)\n",
        "delta = timedelta(days=1)\n",
        "cols = ['date', 'temperature']\n",
        "average = []\n",
        "output = pd.DataFrame(columns = cols)\n",
        "writer = pd.ExcelWriter('Jukss.xlsx', engine='xlsxwriter')\n",
        "current_month = start_date.strftime(\"%B\")\n",
        "total = 0\n",
        "i = 0\n",
        "\n",
        "for temperature in data['temperature']:\n",
        "  output = output.append({'date': start_date.strftime(\"%Y-%B-%d\"), 'temperature': temperature},ignore_index=True)\n",
        "  start_date += delta\n",
        "  try:\n",
        "    total = total + float(temperature)\n",
        "    i = i+1\n",
        "  except:\n",
        "    pass\n",
        "\n",
        "  if start_date.strftime(\"%B\") != current_month:\n",
        "    average.append({'date': f'{current_month} Average', 'temperature': 0 if i == 0 else total/i})\n",
        "    current_month = start_date.strftime(\"%B\")\n",
        "    total = 0\n",
        "    i = 0\n",
        "output = output.append({'date': '', 'temperature': ''}, ignore_index=True)\n",
        "output = output.append(average)\n",
        "output.to_excel(writer, sheet_name=\"Monthly\")\n",
        "writer.save()"
      ],
      "execution_count": null,
      "outputs": []
    },
    {
      "cell_type": "code",
      "metadata": {
        "id": "ObbxYl2PT7PR",
        "colab_type": "code",
        "colab": {}
      },
      "source": [
        ""
      ],
      "execution_count": 79,
      "outputs": []
    }
  ]
}