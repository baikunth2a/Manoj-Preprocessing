{
  "nbformat": 4,
  "nbformat_minor": 0,
  "metadata": {
    "colab": {
      "name": "Temp_to_raw_col.ipynb",
      "provenance": [],
      "authorship_tag": "ABX9TyPj0Dcgq4zPx8Xu8ETNzlOO",
      "include_colab_link": true
    },
    "kernelspec": {
      "name": "python3",
      "display_name": "Python 3"
    }
  },
  "cells": [
    {
      "cell_type": "markdown",
      "metadata": {
        "id": "view-in-github",
        "colab_type": "text"
      },
      "source": [
        "<a href=\"https://colab.research.google.com/github/baikunth2a/Manoj-Preprocessing/blob/master/Temp_to_raw_col.ipynb\" target=\"_parent\"><img src=\"https://colab.research.google.com/assets/colab-badge.svg\" alt=\"Open In Colab\"/></a>"
      ]
    },
    {
      "cell_type": "code",
      "metadata": {
        "id": "X2LFZ6qHI8ZA",
        "colab_type": "code",
        "colab": {
          "base_uri": "https://localhost:8080/",
          "height": 122
        },
        "outputId": "24243268-0ff3-49da-f3c7-e17b7509204b"
      },
      "source": [
        "!pip install XlsxWriter"
      ],
      "execution_count": 4,
      "outputs": [
        {
          "output_type": "stream",
          "text": [
            "Collecting XlsxWriter\n",
            "\u001b[?25l  Downloading https://files.pythonhosted.org/packages/2b/98/17875723b6814fc4d0fc03f0997ee00de2dbd78cf195e2ec3f2c9c789d40/XlsxWriter-1.3.3-py2.py3-none-any.whl (144kB)\n",
            "\r\u001b[K     |██▎                             | 10kB 16.6MB/s eta 0:00:01\r\u001b[K     |████▌                           | 20kB 2.9MB/s eta 0:00:01\r\u001b[K     |██████▉                         | 30kB 3.9MB/s eta 0:00:01\r\u001b[K     |█████████                       | 40kB 4.3MB/s eta 0:00:01\r\u001b[K     |███████████▍                    | 51kB 3.5MB/s eta 0:00:01\r\u001b[K     |█████████████▋                  | 61kB 3.9MB/s eta 0:00:01\r\u001b[K     |████████████████                | 71kB 4.2MB/s eta 0:00:01\r\u001b[K     |██████████████████▏             | 81kB 4.4MB/s eta 0:00:01\r\u001b[K     |████████████████████▌           | 92kB 4.9MB/s eta 0:00:01\r\u001b[K     |██████████████████████▊         | 102kB 4.7MB/s eta 0:00:01\r\u001b[K     |█████████████████████████       | 112kB 4.7MB/s eta 0:00:01\r\u001b[K     |███████████████████████████▎    | 122kB 4.7MB/s eta 0:00:01\r\u001b[K     |█████████████████████████████▋  | 133kB 4.7MB/s eta 0:00:01\r\u001b[K     |███████████████████████████████▉| 143kB 4.7MB/s eta 0:00:01\r\u001b[K     |████████████████████████████████| 153kB 4.7MB/s \n",
            "\u001b[?25hInstalling collected packages: XlsxWriter\n",
            "Successfully installed XlsxWriter-1.3.3\n"
          ],
          "name": "stdout"
        }
      ]
    },
    {
      "cell_type": "code",
      "metadata": {
        "id": "W7gF3gfn0LK5",
        "colab_type": "code",
        "colab": {
          "base_uri": "https://localhost:8080/",
          "height": 51
        },
        "outputId": "cd399c6b-beda-4f16-e9f7-6b79eb014ec2"
      },
      "source": [
        "import pandas as pd\n",
        "import sys\n",
        "import os\n",
        "\n",
        "from google.colab import drive\n",
        "drive.mount('/content/gdrive/')\n",
        "sys.path.append('/content/gdrive/My Drive/lead_gen')\n",
        "%cd /content/gdrive/My\\ Drive/"
      ],
      "execution_count": 5,
      "outputs": [
        {
          "output_type": "stream",
          "text": [
            "Mounted at /content/gdrive/\n",
            "/content/gdrive/My Drive\n"
          ],
          "name": "stdout"
        }
      ]
    },
    {
      "cell_type": "code",
      "metadata": {
        "id": "2OF_-hzr4dei",
        "colab_type": "code",
        "colab": {
          "base_uri": "https://localhost:8080/",
          "height": 71
        },
        "outputId": "63d11f77-7198-42d6-d9b7-9fe0a9314d64"
      },
      "source": [
        "data = pd.read_csv('Jukss.txt', sep=\"   \", header=None)\n",
        "data.columns = [\"number\", \"temperature\"]\n",
        "# data.replace(to_replace={'DNA' : 0}, inplace=True)"
      ],
      "execution_count": 8,
      "outputs": [
        {
          "output_type": "stream",
          "text": [
            "/usr/local/lib/python3.6/dist-packages/ipykernel_launcher.py:1: ParserWarning: Falling back to the 'python' engine because the 'c' engine does not support regex separators (separators > 1 char and different from '\\s+' are interpreted as regex); you can avoid this warning by specifying engine='python'.\n",
            "  \"\"\"Entry point for launching an IPython kernel.\n"
          ],
          "name": "stderr"
        }
      ]
    },
    {
      "cell_type": "code",
      "metadata": {
        "id": "b-JxsGY06cHx",
        "colab_type": "code",
        "colab": {}
      },
      "source": [
        "from datetime import date, timedelta\n",
        "import xlsxwriter\n",
        "\n",
        "start_date = date(1980, 1, 1)\n",
        "delta = timedelta(days=1)\n",
        "output = pd.DataFrame()\n",
        "writer = pd.ExcelWriter('Jukss-another1.xlsx', engine='xlsxwriter')\n",
        "current_month = start_date.strftime(\"%B\")\n",
        "i = 0\n",
        "\n",
        "for temperature in data['temperature']:\n",
        "  if start_date.strftime(\"%B\") not in output.columns:\n",
        "    output[start_date.strftime(\"%B\")] = ''\n",
        "  output.loc[i, start_date.strftime(\"%B\")] = temperature\n",
        "  start_date += delta\n",
        "  i = i+1\n",
        "\n",
        "  if start_date.strftime(\"%B\") != current_month:\n",
        "    i = 0\n",
        "    current_month = start_date.strftime(\"%B\")\n",
        "output.index += 1\n",
        "#output = output.T\n",
        "output.to_excel(writer, sheet_name=\"Monthly\")\n",
        "writer.save()"
      ],
      "execution_count": 34,
      "outputs": []
    },
    {
      "cell_type": "code",
      "metadata": {
        "id": "ObbxYl2PT7PR",
        "colab_type": "code",
        "colab": {}
      },
      "source": [
        ""
      ],
      "execution_count": 10,
      "outputs": []
    }
  ]
}